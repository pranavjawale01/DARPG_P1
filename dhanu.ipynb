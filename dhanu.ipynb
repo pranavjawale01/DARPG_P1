{
  "nbformat": 4,
  "nbformat_minor": 0,
  "metadata": {
    "colab": {
      "provenance": [],
      "toc_visible": true,
      "authorship_tag": "ABX9TyMZo6xBzuQqtavALp7pil9C",
      "include_colab_link": true
    },
    "kernelspec": {
      "name": "python3",
      "display_name": "Python 3"
    },
    "language_info": {
      "name": "python"
    }
  },
  "cells": [
    {
      "cell_type": "markdown",
      "metadata": {
        "id": "view-in-github",
        "colab_type": "text"
      },
      "source": [
        "<a href=\"https://colab.research.google.com/github/Dhanu0407/DARPG_P1/blob/main/dhanu.ipynb\" target=\"_parent\"><img src=\"https://colab.research.google.com/assets/colab-badge.svg\" alt=\"Open In Colab\"/></a>"
      ]
    },
    {
      "cell_type": "markdown",
      "source": [
        "# New Section"
      ],
      "metadata": {
        "id": "mUReHkT5PsIw"
      }
    },
    {
      "cell_type": "code",
      "source": [
        "import pandas as pd\n",
        "from sklearn.feature_extraction.text import TfidfVectorizer\n",
        "from sklearn.cluster import KMeans\n",
        "from sklearn.svm import SVC\n",
        "from sklearn.model_selection import train_test_split\n",
        "from sklearn.metrics import classification_report\n"
      ],
      "metadata": {
        "id": "4c0RKvK3R-V3"
      },
      "execution_count": 2,
      "outputs": []
    },
    {
      "cell_type": "code",
      "source": [
        "data = pd.read_csv('CategoryCode_Mapping.csv')  # Assuming 'grievance_reports.csv' contains the dataset\n"
      ],
      "metadata": {
        "id": "fqrgfFBhSCwN"
      },
      "execution_count": 3,
      "outputs": []
    },
    {
      "cell_type": "code",
      "source": [
        "tfidf_vectorizer=TfidfVectorizer(max_features=1000)\n",
        "X=tfidf_vectorizer.fit_transform(data['Description'])"
      ],
      "metadata": {
        "id": "YcW8ByE4X3Cc"
      },
      "execution_count": 24,
      "outputs": []
    },
    {
      "cell_type": "code",
      "source": [
        "import pandas as pd\n",
        "\n",
        "# Load the dataset\n",
        "data = pd.read_csv('CategoryCode_Mapping.csv')  # Assuming 'CategoryCode_Mapping.csv' contains the dataset\n",
        "\n",
        "# Extract rows with null values\n",
        "rows_with_null = data[data.isnull().any(axis=1)]\n",
        "\n",
        "# Save rows with null values to another variable\n",
        "null_values_variable = rows_with_null.copy()\n",
        "\n",
        "# Print the null values or perform further operations\n",
        "print(null_values_variable)\n"
      ],
      "metadata": {
        "colab": {
          "base_uri": "https://localhost:8080/"
        },
        "id": "6zM9CCEzdOny",
        "outputId": "cce02984-5f61-44b4-8c3c-0899284c63a1"
      },
      "execution_count": 25,
      "outputs": [
        {
          "output_type": "stream",
          "name": "stdout",
          "text": [
            "        Code                              Description OrgCode   Parent  Stage  \\\n",
            "0          1                       Telecommunications   DOTEL      NaN      1   \n",
            "60        61                                    Posts   DPOST      NaN      1   \n",
            "250      251                                  Banking   DEABD      NaN      1   \n",
            "352      353                                Insurance   DEAID      NaN      1   \n",
            "397      398                         School Education   DOSEL      NaN      1   \n",
            "...      ...                                      ...     ...      ...    ...   \n",
            "19636  26202                   Matter related to DUAC   DOURD  26194.0      4   \n",
            "19637  26203       Matter related to Raj Ghat Samadhi   DOURD  26194.0      4   \n",
            "19638  26204                   Matter related to NBCC   DOURD  26194.0      4   \n",
            "19639  26205  Matter related to Rent Control in Delhi   DOURD  26194.0      4   \n",
            "19778  26344                                 Shipping   MSHPG      NaN      1   \n",
            "\n",
            "       MonitoringCode  \n",
            "0               506.0  \n",
            "60              506.0  \n",
            "250             799.0  \n",
            "352             789.0  \n",
            "397            1099.0  \n",
            "...               ...  \n",
            "19636             NaN  \n",
            "19637             NaN  \n",
            "19638             NaN  \n",
            "19639             NaN  \n",
            "19778          1799.0  \n",
            "\n",
            "[3484 rows x 6 columns]\n"
          ]
        }
      ]
    },
    {
      "cell_type": "code",
      "source": [
        "\n",
        "data_without_null = data.dropna()\n",
        "\n"
      ],
      "metadata": {
        "id": "c-ASeuTqeJsL"
      },
      "execution_count": 26,
      "outputs": []
    },
    {
      "cell_type": "code",
      "source": [
        "tfidf_vectorizer = TfidfVectorizer(max_features=1000)  # Using TF-IDF for feature extraction\n",
        "X = tfidf_vectorizer.fit_transform(data_without_null['Description'])\n",
        "\n",
        "# Clustering\n",
        "k = 10  # Number of clusters\n",
        "kmeans = KMeans(n_clusters=k)\n",
        "data_without_null['cluster'] = kmeans.fit_predict(X)\n",
        "\n",
        "# Categorization\n",
        "X_train, X_test, y_train, y_test = train_test_split(X, data_without_null['MonitoringCode'], test_size=0.2, random_state=42)\n",
        "\n",
        "svm_model = SVC(kernel='linear')\n",
        "svm_model.fit(X_train, y_train)\n",
        "predictions = svm_model.predict(X_test)\n",
        "\n",
        "# Evaluation\n",
        "print(\"Classification Report:\")\n",
        "print(classification_report(y_test, predictions))"
      ],
      "metadata": {
        "colab": {
          "base_uri": "https://localhost:8080/"
        },
        "id": "6YveWefMeTEx",
        "outputId": "365b4f20-6821-47bf-dbdb-2d636931c8de"
      },
      "execution_count": 30,
      "outputs": [
        {
          "output_type": "stream",
          "name": "stderr",
          "text": [
            "/usr/local/lib/python3.10/dist-packages/sklearn/cluster/_kmeans.py:870: FutureWarning: The default value of `n_init` will change from 10 to 'auto' in 1.4. Set the value of `n_init` explicitly to suppress the warning\n",
            "  warnings.warn(\n",
            "<ipython-input-30-a48ea7848b93>:7: SettingWithCopyWarning: \n",
            "A value is trying to be set on a copy of a slice from a DataFrame.\n",
            "Try using .loc[row_indexer,col_indexer] = value instead\n",
            "\n",
            "See the caveats in the documentation: https://pandas.pydata.org/pandas-docs/stable/user_guide/indexing.html#returning-a-view-versus-a-copy\n",
            "  data_without_null['cluster'] = kmeans.fit_predict(X)\n"
          ]
        },
        {
          "output_type": "stream",
          "name": "stdout",
          "text": [
            "Classification Report:\n",
            "              precision    recall  f1-score   support\n",
            "\n",
            "       101.0       0.81      0.16      0.27        79\n",
            "       102.0       0.63      0.30      0.41       102\n",
            "       103.0       1.00      0.14      0.25         7\n",
            "       104.0       0.45      0.16      0.23        32\n",
            "       105.0       0.50      0.17      0.25         6\n",
            "       106.0       0.00      0.00      0.00         6\n",
            "       107.0       0.00      0.00      0.00         1\n",
            "       199.0       0.80      0.88      0.83       773\n",
            "       202.0       0.00      0.00      0.00         2\n",
            "       204.0       0.00      0.00      0.00         1\n",
            "       299.0       0.00      0.00      0.00        47\n",
            "       301.0       0.00      0.00      0.00         1\n",
            "       303.0       0.00      0.00      0.00         5\n",
            "       399.0       0.35      0.20      0.25        81\n",
            "       499.0       0.00      0.00      0.00        11\n",
            "       501.0       0.60      0.12      0.19        52\n",
            "       502.0       0.00      0.00      0.00         7\n",
            "       503.0       0.00      0.00      0.00         2\n",
            "       504.0       0.00      0.00      0.00         1\n",
            "       505.0       0.52      0.60      0.55       137\n",
            "       506.0       0.62      0.29      0.39        45\n",
            "       599.0       0.53      0.12      0.20        73\n",
            "       699.0       0.00      0.00      0.00        18\n",
            "       701.0       0.00      0.00      0.00         3\n",
            "       702.0       0.00      0.00      0.00         2\n",
            "       704.0       0.00      0.00      0.00         1\n",
            "       705.0       0.00      0.00      0.00         1\n",
            "       706.0       0.86      0.72      0.79        89\n",
            "       781.0       0.00      0.00      0.00         2\n",
            "       782.0       0.00      0.00      0.00         1\n",
            "       789.0       0.00      0.00      0.00         9\n",
            "       799.0       0.00      0.00      0.00        16\n",
            "       801.0       0.53      0.22      0.31       140\n",
            "       802.0       0.00      0.00      0.00         1\n",
            "       901.0       0.56      0.15      0.24        59\n",
            "      1002.0       0.00      0.00      0.00         9\n",
            "      1003.0       0.25      0.08      0.12        12\n",
            "      1099.0       0.74      0.49      0.59       101\n",
            "      1103.0       0.00      0.00      0.00        17\n",
            "      1199.0       0.00      0.00      0.00        12\n",
            "      1201.0       0.50      0.13      0.20        39\n",
            "      1501.0       0.77      0.31      0.44        32\n",
            "      1699.0       0.00      0.00      0.00         1\n",
            "      1701.0       0.64      0.58      0.61       112\n",
            "      1702.0       0.00      0.00      0.00         7\n",
            "      1703.0       1.00      0.25      0.40        12\n",
            "      1704.0       0.00      0.00      0.00        12\n",
            "      1706.0       0.00      0.00      0.00         2\n",
            "      1799.0       0.50      0.84      0.63      1027\n",
            "      1899.0       0.00      0.00      0.00        26\n",
            "      1901.0       0.75      0.55      0.63        11\n",
            "      1999.0       0.00      0.00      0.00         5\n",
            "      2005.0       0.00      0.00      0.00         1\n",
            "      2099.0       0.00      0.00      0.00         2\n",
            "      2101.0       0.00      0.00      0.00        14\n",
            "      5607.0       0.00      0.00      0.00         6\n",
            "      9001.0       0.00      0.00      0.00         1\n",
            "\n",
            "    accuracy                           0.60      3274\n",
            "   macro avg       0.24      0.13      0.15      3274\n",
            "weighted avg       0.57      0.60      0.55      3274\n",
            "\n"
          ]
        },
        {
          "output_type": "stream",
          "name": "stderr",
          "text": [
            "/usr/local/lib/python3.10/dist-packages/sklearn/metrics/_classification.py:1344: UndefinedMetricWarning: Precision and F-score are ill-defined and being set to 0.0 in labels with no predicted samples. Use `zero_division` parameter to control this behavior.\n",
            "  _warn_prf(average, modifier, msg_start, len(result))\n",
            "/usr/local/lib/python3.10/dist-packages/sklearn/metrics/_classification.py:1344: UndefinedMetricWarning: Precision and F-score are ill-defined and being set to 0.0 in labels with no predicted samples. Use `zero_division` parameter to control this behavior.\n",
            "  _warn_prf(average, modifier, msg_start, len(result))\n",
            "/usr/local/lib/python3.10/dist-packages/sklearn/metrics/_classification.py:1344: UndefinedMetricWarning: Precision and F-score are ill-defined and being set to 0.0 in labels with no predicted samples. Use `zero_division` parameter to control this behavior.\n",
            "  _warn_prf(average, modifier, msg_start, len(result))\n"
          ]
        }
      ]
    }
  ]
}